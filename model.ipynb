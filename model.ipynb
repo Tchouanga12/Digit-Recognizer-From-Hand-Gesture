{
 "cells": [
  {
   "cell_type": "code",
   "execution_count": null,
   "metadata": {},
   "outputs": [],
   "source": [
    "import numpy as np\n",
    "import pandas as pd\n",
    "import tensorflow as tf\n",
    "from tensorflow import keras\n",
    "import matplotlib.pyplot as plt\n",
    "from tensorflow.keras.layers import Flatten,MaxPool2D,Dense,Conv2D,Dropout\n",
    "from tensorflow.keras.models import Sequential\n",
    "from sklearn.model_selection import train_test_split\n",
    "from sklearn.utils import shuffle\n",
    "import matplotlib.pyplot as plt\n",
    "import os\n",
    "import cv2\n",
    "from cv2 import cvtColor\n",
    "from keras.callbacks import History \n"
   ]
  },
  {
   "cell_type": "code",
   "execution_count": null,
   "metadata": {},
   "outputs": [],
   "source": [
    "X=np.zeros((1,64,64,1),dtype=float)  #images\n",
    "Y=np.zeros((1,10),dtype=float)       #labels"
   ]
  },
  {
   "cell_type": "code",
   "execution_count": null,
   "metadata": {},
   "outputs": [],
   "source": [
    "def extract_data(path):\n",
    "    X=np.zeros((1,64,64,1),dtype=float)  #images\n",
    "    Y=np.zeros((1,10),dtype=float)       #labels\n",
    "    for i in os.listdir(path):\n",
    "        for j in os.listdir(path+'/'+f'{i}'):\n",
    "            img=plt.imread(path+'/'+f'{i}/{j}')\n",
    "            gray=cv2.cvtColor(img,cv2.COLOR_BGR2GRAY)\n",
    "            gray=gray/255\n",
    "            gray = cv2.resize(gray, (64,64))\n",
    "            gray=gray.reshape(1,64,64,1)\n",
    "            X = np.vstack((X,gray))\n",
    "            y = np.zeros((1,10))\n",
    "            y[0,int(i)] = 1\n",
    "            Y = np.vstack((Y,y))\n",
    "    return X,Y"
   ]
  },
  {
   "cell_type": "code",
   "execution_count": null,
   "metadata": {},
   "outputs": [],
   "source": [
    "def preprocess(X,Y):\n",
    "    X=X[1:,:,:,:]\n",
    "    Y=Y[1:,:]\n",
    "    X,Y=shuffle(X,Y)\n",
    "    xtrain,xtest,ytrain,ytest=train_test_split(X,Y,test_size=0.2,random_state=40)\n",
    "    return xtrain,xtest,ytrain,ytest"
   ]
  },
  {
   "cell_type": "code",
   "execution_count": null,
   "metadata": {},
   "outputs": [],
   "source": [
    "def visualize(index):\n",
    "    plt.imshow(X[index].reshape(64,64))\n",
    "    plt.show()\n",
    "    print(\"The label is\",Y[index].argmax(axis=0))"
   ]
  },
  {
   "cell_type": "code",
   "execution_count": null,
   "metadata": {},
   "outputs": [],
   "source": [
    "def train_model(xtrain,xtest,ytrain,ytest):\n",
    "    model = Sequential()\n",
    "    model.add(Conv2D(32, kernel_size=3, padding=\"same\",  input_shape=(64, 64, 1), activation=\"relu\"))\n",
    "    model.add(MaxPool2D(pool_size=(2,2)))\n",
    "    model.add(Conv2D(64, kernel_size=3, padding=\"same\", activation=\"relu\"))\n",
    "    model.add(MaxPool2D(pool_size=(2,2)))\n",
    "    model.add(Flatten())\n",
    "    model.add(Dense(units=512, activation=\"relu\"))\n",
    "    model.add(Dropout(0.4))\n",
    "    model.add(Dense(units=128, activation=\"relu\"))\n",
    "    model.add(Dropout(0.25))\n",
    "    model.add(Dense(units=10, activation=\"softmax\"))\n",
    "    model.compile(optimizer=\"adam\", loss=\"categorical_crossentropy\", metrics=['accuracy'])\n",
    "    history=model.fit(xtrain,ytrain,validation_data=(xtest,ytest),epochs=24,batch_size=64,verbose=1)\n",
    "    return history,model"
   ]
  },
  {
   "cell_type": "code",
   "execution_count": null,
   "metadata": {},
   "outputs": [],
   "source": [
    "def visualize_model(history):\n",
    "    plt.figure(figsize=(24,8))\n",
    "    plt.subplot(1,2,1)\n",
    "    plt.plot(history.history[\"val_acc\"],label=\"validation_accuracy\",c=\"red\",linewidth=4)\n",
    "    plt.plot(history.history[\"acc\"],label=\"training_accuracy\",c=\"green\",linewidth=4)\n",
    "    plt.legend()\n",
    "    plt.grid(True)\n",
    "    \n",
    "    plt.subplot(1,2,2)\n",
    "    plt.plot(history.history[\"val_loss\"],label=\"validation loss\",c=\"red\",linewidth=4)\n",
    "    plt.plot(history.history[\"loss\"],label=\"training_loss\",c=\"green\",linewidth=4)\n",
    "    plt.legend()\n",
    "    plt.grid(True)\n",
    "    plt.suptitle(\"ACC / LOSS\",fontsize=18)\n",
    "\n",
    "    plt.show()"
   ]
  },
  {
   "cell_type": "code",
   "execution_count": null,
   "metadata": {},
   "outputs": [],
   "source": [
    "path='./opencv/sign/dataset6'\n",
    "index=700\n",
    "X,Y=extract_data(path)\n"
   ]
  },
  {
   "cell_type": "code",
   "execution_count": null,
   "metadata": {},
   "outputs": [],
   "source": [
    "visualize(700)\n"
   ]
  },
  {
   "cell_type": "code",
   "execution_count": null,
   "metadata": {},
   "outputs": [],
   "source": [
    "xtrain,xtest,ytrain,ytest=preprocess(X,Y)\n"
   ]
  },
  {
   "cell_type": "code",
   "execution_count": null,
   "metadata": {},
   "outputs": [],
   "source": [
    "history,model=train_model(xtrain,xtest,ytrain,ytest)\n",
    "model.summary()\n"
   ]
  },
  {
   "cell_type": "code",
   "execution_count": null,
   "metadata": {},
   "outputs": [],
   "source": [
    "visualize_model(history)\n",
    "model.save(\"mod7.h5\")"
   ]
  },
  {
   "cell_type": "code",
   "execution_count": null,
   "metadata": {},
   "outputs": [],
   "source": []
  }
 ],
 "metadata": {
  "kernelspec": {
   "display_name": "Python 3",
   "language": "python",
   "name": "python3"
  },
  "language_info": {
   "codemirror_mode": {
    "name": "ipython",
    "version": 3
   },
   "file_extension": ".py",
   "mimetype": "text/x-python",
   "name": "python",
   "nbconvert_exporter": "python",
   "pygments_lexer": "ipython3",
   "version": "3.7.3"
  }
 },
 "nbformat": 4,
 "nbformat_minor": 4
}
