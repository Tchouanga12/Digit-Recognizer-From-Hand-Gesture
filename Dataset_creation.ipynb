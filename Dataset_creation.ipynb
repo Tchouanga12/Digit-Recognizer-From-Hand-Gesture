{
 "cells": [
  {
   "cell_type": "code",
   "execution_count": null,
   "metadata": {},
   "outputs": [],
   "source": [
    "import numpy as np\n",
    "import cv2\n",
    "import os\n"
   ]
  },
  {
   "cell_type": "code",
   "execution_count": null,
   "metadata": {},
   "outputs": [],
   "source": [
    "def make_dir(path):\n",
    "    if not os.path.exists(path):\n",
    "        os.makedirs(path)\n",
    "\n",
    "    for i in range(10):\n",
    "        if not os.path.exists(path+'/'+f'{i}'):\n",
    "            os.makedirs(path+'/'+f'{i}')\n",
    "\n"
   ]
  },
  {
   "cell_type": "code",
   "execution_count": null,
   "metadata": {},
   "outputs": [],
   "source": [
    "path='./sign/dataset6'\n",
    "make_dir(path)\n"
   ]
  },
  {
   "cell_type": "code",
   "execution_count": null,
   "metadata": {},
   "outputs": [],
   "source": [
    "cap=cv2.VideoCapture(0)\n",
    "digits_captured=[0]*10\n",
    "while True:\n",
    "    ret,frame=cap.read()\n",
    "    frame=cv2.flip(frame,1)\n",
    "    cv2.rectangle(frame,(100,100),(300,300),(20,34,255),2)\n",
    "    img=frame[100:300,100:300]\n",
    "    img=cv2.resize(img,(64,64))\n",
    "    cv2.imshow(\"image\",frame)\n",
    "    key=cv2.waitKey(1)\n",
    "    if key>=48 and key<58:\n",
    "        digits=key-48\n",
    "        digits_captured[digits]+=1\n",
    "        print(digits_captured)\n",
    "        cv2.imwrite(path+'/'+f'{digits}'+'/'+f'{digits_captured[digits]}'+'.jpg',img)\n",
    "    elif key==27:\n",
    "        break\n",
    "cap.release()\n",
    "cv2.destroyAllWindows()"
   ]
  },
  {
   "cell_type": "code",
   "execution_count": 7,
   "metadata": {},
   "outputs": [
    {
     "ename": "SyntaxError",
     "evalue": "invalid syntax (<ipython-input-7-0cdc33cdc4bd>, line 1)",
     "output_type": "error",
     "traceback": [
      "\u001b[0;36m  File \u001b[0;32m\"<ipython-input-7-0cdc33cdc4bd>\"\u001b[0;36m, line \u001b[0;32m1\u001b[0m\n\u001b[0;31m    jupyter nbconvert Dataset_creation.ipynb --to python\u001b[0m\n\u001b[0m                    ^\u001b[0m\n\u001b[0;31mSyntaxError\u001b[0m\u001b[0;31m:\u001b[0m invalid syntax\n"
     ]
    }
   ],
   "source": [
    "jupyter nbconvert Dataset_creation.ipynb --to python\n",
    "\n"
   ]
  },
  {
   "cell_type": "code",
   "execution_count": 8,
   "metadata": {},
   "outputs": [
    {
     "name": "stdout",
     "output_type": "stream",
     "text": [
      "Requirement already satisfied: ipython in /home/sak/anaconda3/lib/python3.7/site-packages (7.6.1)\n",
      "Requirement already satisfied: jedi>=0.10 in /home/sak/anaconda3/lib/python3.7/site-packages (from ipython) (0.13.3)\n",
      "Requirement already satisfied: backcall in /home/sak/anaconda3/lib/python3.7/site-packages (from ipython) (0.1.0)\n",
      "Requirement already satisfied: prompt-toolkit<2.1.0,>=2.0.0 in /home/sak/anaconda3/lib/python3.7/site-packages (from ipython) (2.0.9)\n",
      "Requirement already satisfied: decorator in /home/sak/anaconda3/lib/python3.7/site-packages (from ipython) (4.4.0)\n",
      "Requirement already satisfied: pickleshare in /home/sak/anaconda3/lib/python3.7/site-packages (from ipython) (0.7.5)\n",
      "Requirement already satisfied: pexpect; sys_platform != \"win32\" in /home/sak/anaconda3/lib/python3.7/site-packages (from ipython) (4.7.0)\n",
      "Requirement already satisfied: pygments in /home/sak/anaconda3/lib/python3.7/site-packages (from ipython) (2.4.2)\n",
      "Requirement already satisfied: setuptools>=18.5 in /home/sak/anaconda3/lib/python3.7/site-packages (from ipython) (41.0.1)\n",
      "Requirement already satisfied: traitlets>=4.2 in /home/sak/anaconda3/lib/python3.7/site-packages (from ipython) (4.3.2)\n",
      "Requirement already satisfied: parso>=0.3.0 in /home/sak/anaconda3/lib/python3.7/site-packages (from jedi>=0.10->ipython) (0.5.0)\n",
      "Requirement already satisfied: wcwidth in /home/sak/anaconda3/lib/python3.7/site-packages (from prompt-toolkit<2.1.0,>=2.0.0->ipython) (0.1.7)\n",
      "Requirement already satisfied: six>=1.9.0 in /home/sak/anaconda3/lib/python3.7/site-packages (from prompt-toolkit<2.1.0,>=2.0.0->ipython) (1.12.0)\n",
      "Requirement already satisfied: ptyprocess>=0.5 in /home/sak/anaconda3/lib/python3.7/site-packages (from pexpect; sys_platform != \"win32\"->ipython) (0.6.0)\n",
      "Requirement already satisfied: ipython-genutils in /home/sak/anaconda3/lib/python3.7/site-packages (from traitlets>=4.2->ipython) (0.2.0)\n",
      "Note: you may need to restart the kernel to use updated packages.\n"
     ]
    }
   ],
   "source": [
    "pip install ipython"
   ]
  },
  {
   "cell_type": "code",
   "execution_count": 9,
   "metadata": {},
   "outputs": [
    {
     "name": "stdout",
     "output_type": "stream",
     "text": [
      "Requirement already satisfied: nbconvert in /home/sak/anaconda3/lib/python3.7/site-packages (5.5.0)\n",
      "Requirement already satisfied: bleach in /home/sak/anaconda3/lib/python3.7/site-packages (from nbconvert) (3.1.0)\n",
      "Requirement already satisfied: defusedxml in /home/sak/anaconda3/lib/python3.7/site-packages (from nbconvert) (0.6.0)\n",
      "Requirement already satisfied: mistune>=0.8.1 in /home/sak/anaconda3/lib/python3.7/site-packages (from nbconvert) (0.8.4)\n",
      "Requirement already satisfied: jinja2>=2.4 in /home/sak/anaconda3/lib/python3.7/site-packages (from nbconvert) (2.10.1)\n",
      "Requirement already satisfied: nbformat>=4.4 in /home/sak/anaconda3/lib/python3.7/site-packages (from nbconvert) (4.4.0)\n",
      "Requirement already satisfied: entrypoints>=0.2.2 in /home/sak/anaconda3/lib/python3.7/site-packages (from nbconvert) (0.3)\n",
      "Requirement already satisfied: testpath in /home/sak/anaconda3/lib/python3.7/site-packages (from nbconvert) (0.4.2)\n",
      "Requirement already satisfied: pandocfilters>=1.4.1 in /home/sak/anaconda3/lib/python3.7/site-packages (from nbconvert) (1.4.2)\n",
      "Requirement already satisfied: pygments in /home/sak/anaconda3/lib/python3.7/site-packages (from nbconvert) (2.4.2)\n",
      "Requirement already satisfied: jupyter-core in /home/sak/anaconda3/lib/python3.7/site-packages (from nbconvert) (4.5.0)\n",
      "Requirement already satisfied: traitlets>=4.2 in /home/sak/anaconda3/lib/python3.7/site-packages (from nbconvert) (4.3.2)\n",
      "Requirement already satisfied: six>=1.9.0 in /home/sak/anaconda3/lib/python3.7/site-packages (from bleach->nbconvert) (1.12.0)\n",
      "Requirement already satisfied: webencodings in /home/sak/anaconda3/lib/python3.7/site-packages (from bleach->nbconvert) (0.5.1)\n",
      "Requirement already satisfied: MarkupSafe>=0.23 in /home/sak/anaconda3/lib/python3.7/site-packages (from jinja2>=2.4->nbconvert) (1.1.1)\n",
      "Requirement already satisfied: jsonschema!=2.5.0,>=2.4 in /home/sak/anaconda3/lib/python3.7/site-packages (from nbformat>=4.4->nbconvert) (3.0.1)\n",
      "Requirement already satisfied: ipython-genutils in /home/sak/anaconda3/lib/python3.7/site-packages (from nbformat>=4.4->nbconvert) (0.2.0)\n",
      "Requirement already satisfied: decorator in /home/sak/anaconda3/lib/python3.7/site-packages (from traitlets>=4.2->nbconvert) (4.4.0)\n",
      "Requirement already satisfied: attrs>=17.4.0 in /home/sak/anaconda3/lib/python3.7/site-packages (from jsonschema!=2.5.0,>=2.4->nbformat>=4.4->nbconvert) (19.1.0)\n",
      "Requirement already satisfied: pyrsistent>=0.14.0 in /home/sak/anaconda3/lib/python3.7/site-packages (from jsonschema!=2.5.0,>=2.4->nbformat>=4.4->nbconvert) (0.14.11)\n",
      "Requirement already satisfied: setuptools in /home/sak/anaconda3/lib/python3.7/site-packages (from jsonschema!=2.5.0,>=2.4->nbformat>=4.4->nbconvert) (41.0.1)\n",
      "Note: you may need to restart the kernel to use updated packages.\n"
     ]
    }
   ],
   "source": [
    "pip install nbconvert"
   ]
  },
  {
   "cell_type": "code",
   "execution_count": 12,
   "metadata": {},
   "outputs": [
    {
     "ename": "SyntaxError",
     "evalue": "invalid syntax (<ipython-input-12-62a77853ef7a>, line 1)",
     "output_type": "error",
     "traceback": [
      "\u001b[0;36m  File \u001b[0;32m\"<ipython-input-12-62a77853ef7a>\"\u001b[0;36m, line \u001b[0;32m1\u001b[0m\n\u001b[0;31m    ipython nbconvert -- to script abc.py\u001b[0m\n\u001b[0m                    ^\u001b[0m\n\u001b[0;31mSyntaxError\u001b[0m\u001b[0;31m:\u001b[0m invalid syntax\n"
     ]
    }
   ],
   "source": [
    " ipython nbconvert -- to script abc.py"
   ]
  },
  {
   "cell_type": "code",
   "execution_count": null,
   "metadata": {},
   "outputs": [],
   "source": []
  }
 ],
 "metadata": {
  "kernelspec": {
   "display_name": "Python 3",
   "language": "python",
   "name": "python3"
  },
  "language_info": {
   "codemirror_mode": {
    "name": "ipython",
    "version": 3
   },
   "file_extension": ".py",
   "mimetype": "text/x-python",
   "name": "python",
   "nbconvert_exporter": "python",
   "pygments_lexer": "ipython3",
   "version": "3.7.3"
  }
 },
 "nbformat": 4,
 "nbformat_minor": 4
}
